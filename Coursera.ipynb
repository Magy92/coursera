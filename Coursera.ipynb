{
 "cells": [
  {
   "cell_type": "markdown",
   "id": "37cc1a94-af13-4070-a416-ffad85e5f492",
   "metadata": {},
   "source": [
    "# Coursera"
   ]
  },
  {
   "cell_type": "markdown",
   "id": "1e1715e7-7e0f-4586-87d9-fe5569e6b7b0",
   "metadata": {},
   "source": [
    "# This is an introduction."
   ]
  },
  {
   "cell_type": "markdown",
   "id": "54372523-1d9e-41c7-b935-d2fd6442df30",
   "metadata": {},
   "source": [
    "# R\n",
    "# Python"
   ]
  },
  {
   "cell_type": "markdown",
   "id": "5a033c95-7d2a-4fb7-bb5b-37ce34c378d6",
   "metadata": {},
   "source": [
    "# Jupyter Notebook"
   ]
  },
  {
   "cell_type": "markdown",
   "id": "1235510a-d985-442d-be6e-b7a4e1f5a22f",
   "metadata": {},
   "source": [
    "# Numpy\n",
    "# Scikit\n",
    "# Tensor Flow\n",
    "# Python"
   ]
  },
  {
   "cell_type": "code",
   "execution_count": 6,
   "id": "58647e51-ec74-43d0-a3af-284505c58c78",
   "metadata": {},
   "outputs": [
    {
     "data": {
      "text/plain": [
       "26"
      ]
     },
     "execution_count": 6,
     "metadata": {},
     "output_type": "execute_result"
    }
   ],
   "source": [
    "a = 12\n",
    "b = 14\n",
    "a+b"
   ]
  },
  {
   "cell_type": "code",
   "execution_count": 8,
   "id": "94f469cc-c2ab-44e8-bf27-7afa2465e859",
   "metadata": {},
   "outputs": [
    {
     "data": {
      "text/plain": [
       "168"
      ]
     },
     "execution_count": 8,
     "metadata": {},
     "output_type": "execute_result"
    }
   ],
   "source": [
    "a*b"
   ]
  },
  {
   "cell_type": "code",
   "execution_count": 16,
   "id": "61e1bca1-d946-456a-a1a7-a305f251895c",
   "metadata": {},
   "outputs": [
    {
     "name": "stdout",
     "output_type": "stream",
     "text": [
      "3.3333333333333335 hours, 0 mins. \n"
     ]
    }
   ],
   "source": [
    "hours = 0\n",
    "mins = 0\n",
    "\n",
    "time = 200\n",
    "leftover_minutes = time % 1440\n",
    "hours = leftover_minutes / 60\n",
    "print(str(hours) + \" hours, \" + str(mins) +  \" mins. \")\n"
   ]
  },
  {
   "cell_type": "markdown",
   "id": "e1eae74a-1426-434e-ba68-42db479c0ecf",
   "metadata": {},
   "source": [
    "# The objective is to keep practicing till I get the hang of it"
   ]
  },
  {
   "cell_type": "markdown",
   "id": "9e95d7ee-5e80-4b28-bfc0-5d9666d83f43",
   "metadata": {},
   "source": [
    "# I am Magy."
   ]
  },
  {
   "cell_type": "code",
   "execution_count": null,
   "id": "90c44c47-d108-45eb-bf91-0f14a4eb3d8e",
   "metadata": {},
   "outputs": [],
   "source": []
  }
 ],
 "metadata": {
  "kernelspec": {
   "display_name": "Python 3 (ipykernel)",
   "language": "python",
   "name": "python3"
  },
  "language_info": {
   "codemirror_mode": {
    "name": "ipython",
    "version": 3
   },
   "file_extension": ".py",
   "mimetype": "text/x-python",
   "name": "python",
   "nbconvert_exporter": "python",
   "pygments_lexer": "ipython3",
   "version": "3.12.2"
  }
 },
 "nbformat": 4,
 "nbformat_minor": 5
}
